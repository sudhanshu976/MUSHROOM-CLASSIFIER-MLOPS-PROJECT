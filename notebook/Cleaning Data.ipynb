{
 "cells": [
  {
   "cell_type": "markdown",
   "id": "df980162",
   "metadata": {},
   "source": [
    "### IMPORTING LIBRARIES"
   ]
  },
  {
   "cell_type": "code",
   "execution_count": 1,
   "id": "2c70079e",
   "metadata": {},
   "outputs": [
    {
     "name": "stderr",
     "output_type": "stream",
     "text": [
      "C:\\Users\\91897\\anaconda3\\lib\\site-packages\\scipy\\__init__.py:155: UserWarning: A NumPy version >=1.18.5 and <1.25.0 is required for this version of SciPy (detected version 1.26.1\n",
      "  warnings.warn(f\"A NumPy version >={np_minversion} and <{np_maxversion}\"\n"
     ]
    }
   ],
   "source": [
    "# Basic Library Imports\n",
    "import numpy as np\n",
    "import pandas as pd\n",
    "import matplotlib.pyplot as plt\n",
    "import seaborn as sns\n",
    "from scipy.stats import skew\n",
    "from scipy.stats import uniform, randint\n",
    "# FEATURE ENGINNERING\n",
    "from sklearn.preprocessing import LabelEncoder\n",
    "\n",
    "from sklearn.preprocessing import StandardScaler\n",
    "\n",
    "# MODELLING\n",
    "from sklearn.model_selection import GridSearchCV, train_test_split ,RandomizedSearchCV\n",
    "from sklearn.linear_model import LinearRegression, Ridge, Lasso, ElasticNet\n",
    "from sklearn.tree import DecisionTreeRegressor\n",
    "from xgboost import XGBRegressor\n",
    "from catboost import CatBoostRegressor\n",
    "from sklearn.ensemble import GradientBoostingRegressor , AdaBoostRegressor ,RandomForestRegressor\n",
    "from lightgbm import LGBMRegressor\n",
    "from sklearn.svm import SVR\n",
    "from sklearn.metrics import mean_squared_error , r2_score\n",
    "\n",
    "\n",
    "\n",
    "# WARNINGS\n",
    "import warnings\n",
    "warnings.filterwarnings(\"ignore\", category=DeprecationWarning)\n",
    "warnings.filterwarnings(\"ignore\")"
   ]
  },
  {
   "cell_type": "markdown",
   "id": "760bd953",
   "metadata": {},
   "source": [
    "### READING AND ANALYZING DATA"
   ]
  },
  {
   "cell_type": "code",
   "execution_count": 2,
   "id": "0f8f565f",
   "metadata": {},
   "outputs": [],
   "source": [
    "df = pd.read_csv(\"data.csv\")"
   ]
  },
  {
   "cell_type": "code",
   "execution_count": 3,
   "id": "8bea4215",
   "metadata": {},
   "outputs": [
    {
     "data": {
      "text/html": [
       "<div>\n",
       "<style scoped>\n",
       "    .dataframe tbody tr th:only-of-type {\n",
       "        vertical-align: middle;\n",
       "    }\n",
       "\n",
       "    .dataframe tbody tr th {\n",
       "        vertical-align: top;\n",
       "    }\n",
       "\n",
       "    .dataframe thead th {\n",
       "        text-align: right;\n",
       "    }\n",
       "</style>\n",
       "<table border=\"1\" class=\"dataframe\">\n",
       "  <thead>\n",
       "    <tr style=\"text-align: right;\">\n",
       "      <th></th>\n",
       "      <th>class</th>\n",
       "      <th>cap-shape</th>\n",
       "      <th>cap-surface</th>\n",
       "      <th>cap-color</th>\n",
       "      <th>bruises</th>\n",
       "      <th>odor</th>\n",
       "      <th>gill-attachment</th>\n",
       "      <th>gill-spacing</th>\n",
       "      <th>gill-size</th>\n",
       "      <th>gill-color</th>\n",
       "      <th>...</th>\n",
       "      <th>stalk-surface-below-ring</th>\n",
       "      <th>stalk-color-above-ring</th>\n",
       "      <th>stalk-color-below-ring</th>\n",
       "      <th>veil-type</th>\n",
       "      <th>veil-color</th>\n",
       "      <th>ring-number</th>\n",
       "      <th>ring-type</th>\n",
       "      <th>spore-print-color</th>\n",
       "      <th>population</th>\n",
       "      <th>habitat</th>\n",
       "    </tr>\n",
       "  </thead>\n",
       "  <tbody>\n",
       "    <tr>\n",
       "      <th>0</th>\n",
       "      <td>p</td>\n",
       "      <td>x</td>\n",
       "      <td>s</td>\n",
       "      <td>n</td>\n",
       "      <td>t</td>\n",
       "      <td>p</td>\n",
       "      <td>f</td>\n",
       "      <td>c</td>\n",
       "      <td>n</td>\n",
       "      <td>k</td>\n",
       "      <td>...</td>\n",
       "      <td>s</td>\n",
       "      <td>w</td>\n",
       "      <td>w</td>\n",
       "      <td>p</td>\n",
       "      <td>w</td>\n",
       "      <td>o</td>\n",
       "      <td>p</td>\n",
       "      <td>k</td>\n",
       "      <td>s</td>\n",
       "      <td>u</td>\n",
       "    </tr>\n",
       "    <tr>\n",
       "      <th>1</th>\n",
       "      <td>e</td>\n",
       "      <td>x</td>\n",
       "      <td>s</td>\n",
       "      <td>y</td>\n",
       "      <td>t</td>\n",
       "      <td>a</td>\n",
       "      <td>f</td>\n",
       "      <td>c</td>\n",
       "      <td>b</td>\n",
       "      <td>k</td>\n",
       "      <td>...</td>\n",
       "      <td>s</td>\n",
       "      <td>w</td>\n",
       "      <td>w</td>\n",
       "      <td>p</td>\n",
       "      <td>w</td>\n",
       "      <td>o</td>\n",
       "      <td>p</td>\n",
       "      <td>n</td>\n",
       "      <td>n</td>\n",
       "      <td>g</td>\n",
       "    </tr>\n",
       "    <tr>\n",
       "      <th>2</th>\n",
       "      <td>e</td>\n",
       "      <td>b</td>\n",
       "      <td>s</td>\n",
       "      <td>w</td>\n",
       "      <td>t</td>\n",
       "      <td>l</td>\n",
       "      <td>f</td>\n",
       "      <td>c</td>\n",
       "      <td>b</td>\n",
       "      <td>n</td>\n",
       "      <td>...</td>\n",
       "      <td>s</td>\n",
       "      <td>w</td>\n",
       "      <td>w</td>\n",
       "      <td>p</td>\n",
       "      <td>w</td>\n",
       "      <td>o</td>\n",
       "      <td>p</td>\n",
       "      <td>n</td>\n",
       "      <td>n</td>\n",
       "      <td>m</td>\n",
       "    </tr>\n",
       "    <tr>\n",
       "      <th>3</th>\n",
       "      <td>p</td>\n",
       "      <td>x</td>\n",
       "      <td>y</td>\n",
       "      <td>w</td>\n",
       "      <td>t</td>\n",
       "      <td>p</td>\n",
       "      <td>f</td>\n",
       "      <td>c</td>\n",
       "      <td>n</td>\n",
       "      <td>n</td>\n",
       "      <td>...</td>\n",
       "      <td>s</td>\n",
       "      <td>w</td>\n",
       "      <td>w</td>\n",
       "      <td>p</td>\n",
       "      <td>w</td>\n",
       "      <td>o</td>\n",
       "      <td>p</td>\n",
       "      <td>k</td>\n",
       "      <td>s</td>\n",
       "      <td>u</td>\n",
       "    </tr>\n",
       "    <tr>\n",
       "      <th>4</th>\n",
       "      <td>e</td>\n",
       "      <td>x</td>\n",
       "      <td>s</td>\n",
       "      <td>g</td>\n",
       "      <td>f</td>\n",
       "      <td>n</td>\n",
       "      <td>f</td>\n",
       "      <td>w</td>\n",
       "      <td>b</td>\n",
       "      <td>k</td>\n",
       "      <td>...</td>\n",
       "      <td>s</td>\n",
       "      <td>w</td>\n",
       "      <td>w</td>\n",
       "      <td>p</td>\n",
       "      <td>w</td>\n",
       "      <td>o</td>\n",
       "      <td>e</td>\n",
       "      <td>n</td>\n",
       "      <td>a</td>\n",
       "      <td>g</td>\n",
       "    </tr>\n",
       "  </tbody>\n",
       "</table>\n",
       "<p>5 rows × 23 columns</p>\n",
       "</div>"
      ],
      "text/plain": [
       "  class cap-shape cap-surface cap-color bruises odor gill-attachment  \\\n",
       "0     p         x           s         n       t    p               f   \n",
       "1     e         x           s         y       t    a               f   \n",
       "2     e         b           s         w       t    l               f   \n",
       "3     p         x           y         w       t    p               f   \n",
       "4     e         x           s         g       f    n               f   \n",
       "\n",
       "  gill-spacing gill-size gill-color  ... stalk-surface-below-ring  \\\n",
       "0            c         n          k  ...                        s   \n",
       "1            c         b          k  ...                        s   \n",
       "2            c         b          n  ...                        s   \n",
       "3            c         n          n  ...                        s   \n",
       "4            w         b          k  ...                        s   \n",
       "\n",
       "  stalk-color-above-ring stalk-color-below-ring veil-type veil-color  \\\n",
       "0                      w                      w         p          w   \n",
       "1                      w                      w         p          w   \n",
       "2                      w                      w         p          w   \n",
       "3                      w                      w         p          w   \n",
       "4                      w                      w         p          w   \n",
       "\n",
       "  ring-number ring-type spore-print-color population habitat  \n",
       "0           o         p                 k          s       u  \n",
       "1           o         p                 n          n       g  \n",
       "2           o         p                 n          n       m  \n",
       "3           o         p                 k          s       u  \n",
       "4           o         e                 n          a       g  \n",
       "\n",
       "[5 rows x 23 columns]"
      ]
     },
     "execution_count": 3,
     "metadata": {},
     "output_type": "execute_result"
    }
   ],
   "source": [
    "df.head()"
   ]
  },
  {
   "cell_type": "code",
   "execution_count": 4,
   "id": "c9480ff5",
   "metadata": {},
   "outputs": [
    {
     "data": {
      "text/plain": [
       "Index(['class', 'cap-shape', 'cap-surface', 'cap-color', 'bruises', 'odor',\n",
       "       'gill-attachment', 'gill-spacing', 'gill-size', 'gill-color',\n",
       "       'stalk-shape', 'stalk-root', 'stalk-surface-above-ring',\n",
       "       'stalk-surface-below-ring', 'stalk-color-above-ring',\n",
       "       'stalk-color-below-ring', 'veil-type', 'veil-color', 'ring-number',\n",
       "       'ring-type', 'spore-print-color', 'population', 'habitat'],\n",
       "      dtype='object')"
      ]
     },
     "execution_count": 4,
     "metadata": {},
     "output_type": "execute_result"
    }
   ],
   "source": [
    "df.columns"
   ]
  },
  {
   "cell_type": "code",
   "execution_count": 5,
   "id": "b98a4c7c",
   "metadata": {},
   "outputs": [
    {
     "data": {
      "text/plain": [
       "class                       object\n",
       "cap-shape                   object\n",
       "cap-surface                 object\n",
       "cap-color                   object\n",
       "bruises                     object\n",
       "odor                        object\n",
       "gill-attachment             object\n",
       "gill-spacing                object\n",
       "gill-size                   object\n",
       "gill-color                  object\n",
       "stalk-shape                 object\n",
       "stalk-root                  object\n",
       "stalk-surface-above-ring    object\n",
       "stalk-surface-below-ring    object\n",
       "stalk-color-above-ring      object\n",
       "stalk-color-below-ring      object\n",
       "veil-type                   object\n",
       "veil-color                  object\n",
       "ring-number                 object\n",
       "ring-type                   object\n",
       "spore-print-color           object\n",
       "population                  object\n",
       "habitat                     object\n",
       "dtype: object"
      ]
     },
     "execution_count": 5,
     "metadata": {},
     "output_type": "execute_result"
    }
   ],
   "source": [
    "df.dtypes"
   ]
  },
  {
   "cell_type": "code",
   "execution_count": 6,
   "id": "c8cb0540",
   "metadata": {},
   "outputs": [
    {
     "data": {
      "text/plain": [
       "class                       0\n",
       "cap-shape                   0\n",
       "cap-surface                 0\n",
       "cap-color                   0\n",
       "bruises                     0\n",
       "odor                        0\n",
       "gill-attachment             0\n",
       "gill-spacing                0\n",
       "gill-size                   0\n",
       "gill-color                  0\n",
       "stalk-shape                 0\n",
       "stalk-root                  0\n",
       "stalk-surface-above-ring    0\n",
       "stalk-surface-below-ring    0\n",
       "stalk-color-above-ring      0\n",
       "stalk-color-below-ring      0\n",
       "veil-type                   0\n",
       "veil-color                  0\n",
       "ring-number                 0\n",
       "ring-type                   0\n",
       "spore-print-color           0\n",
       "population                  0\n",
       "habitat                     0\n",
       "dtype: int64"
      ]
     },
     "execution_count": 6,
     "metadata": {},
     "output_type": "execute_result"
    }
   ],
   "source": [
    "df.isnull().sum()"
   ]
  },
  {
   "cell_type": "code",
   "execution_count": 7,
   "id": "e556711e",
   "metadata": {},
   "outputs": [
    {
     "data": {
      "text/plain": [
       "0"
      ]
     },
     "execution_count": 7,
     "metadata": {},
     "output_type": "execute_result"
    }
   ],
   "source": [
    "df.duplicated().sum()"
   ]
  },
  {
   "cell_type": "markdown",
   "id": "1da7e111",
   "metadata": {},
   "source": [
    "### HANDLING FEATURES"
   ]
  },
  {
   "cell_type": "markdown",
   "id": "3baaa313",
   "metadata": {},
   "source": [
    "#### 1. Cap-shape"
   ]
  },
  {
   "cell_type": "code",
   "execution_count": 8,
   "id": "984990cf",
   "metadata": {},
   "outputs": [],
   "source": [
    "cap_shape = df['cap-shape'].value_counts()"
   ]
  },
  {
   "cell_type": "code",
   "execution_count": 9,
   "id": "cd76cece",
   "metadata": {},
   "outputs": [],
   "source": [
    "cap_shape_index = cap_shape[cap_shape<1000].index\n",
    "df['cap-shape'] = df['cap-shape'].replace(cap_shape_index, 'o')"
   ]
  },
  {
   "cell_type": "code",
   "execution_count": 10,
   "id": "5eea261b",
   "metadata": {},
   "outputs": [
    {
     "data": {
      "text/plain": [
       "x    3656\n",
       "f    3152\n",
       "o    1316\n",
       "Name: cap-shape, dtype: int64"
      ]
     },
     "execution_count": 10,
     "metadata": {},
     "output_type": "execute_result"
    }
   ],
   "source": [
    " df['cap-shape'].value_counts()"
   ]
  },
  {
   "cell_type": "markdown",
   "id": "db82044c",
   "metadata": {},
   "source": [
    "#### 2. cap-surface"
   ]
  },
  {
   "cell_type": "code",
   "execution_count": 11,
   "id": "3a6ed432",
   "metadata": {},
   "outputs": [
    {
     "data": {
      "text/plain": [
       "y    3244\n",
       "s    2556\n",
       "f    2320\n",
       "g       4\n",
       "Name: cap-surface, dtype: int64"
      ]
     },
     "execution_count": 11,
     "metadata": {},
     "output_type": "execute_result"
    }
   ],
   "source": [
    " df['cap-surface'].value_counts()"
   ]
  },
  {
   "cell_type": "code",
   "execution_count": 12,
   "id": "a85a83ae",
   "metadata": {},
   "outputs": [],
   "source": [
    "df['cap-surface'] = df['cap-surface'].replace([\"f\",\"g\"], 'o')"
   ]
  },
  {
   "cell_type": "code",
   "execution_count": 13,
   "id": "36d3847d",
   "metadata": {},
   "outputs": [
    {
     "data": {
      "text/plain": [
       "y    3244\n",
       "s    2556\n",
       "o    2324\n",
       "Name: cap-surface, dtype: int64"
      ]
     },
     "execution_count": 13,
     "metadata": {},
     "output_type": "execute_result"
    }
   ],
   "source": [
    "df['cap-surface'].value_counts()"
   ]
  },
  {
   "cell_type": "markdown",
   "id": "91fe90f5",
   "metadata": {},
   "source": [
    "#### 3. cap-color"
   ]
  },
  {
   "cell_type": "code",
   "execution_count": 14,
   "id": "c9980364",
   "metadata": {},
   "outputs": [],
   "source": [
    "cap_color = df['cap-color'].value_counts()"
   ]
  },
  {
   "cell_type": "code",
   "execution_count": 15,
   "id": "e9738108",
   "metadata": {},
   "outputs": [],
   "source": [
    "cap_color_index = cap_color[cap_color<1000].index\n",
    "df['cap-color'] = df['cap-color'].replace(cap_color_index, 'o')"
   ]
  },
  {
   "cell_type": "code",
   "execution_count": 16,
   "id": "6d14e472",
   "metadata": {},
   "outputs": [
    {
     "data": {
      "text/plain": [
       "n    2284\n",
       "g    1840\n",
       "e    1500\n",
       "y    1072\n",
       "w    1040\n",
       "o     388\n",
       "Name: cap-color, dtype: int64"
      ]
     },
     "execution_count": 16,
     "metadata": {},
     "output_type": "execute_result"
    }
   ],
   "source": [
    "df['cap-color'].value_counts()"
   ]
  },
  {
   "cell_type": "markdown",
   "id": "82e6ea4a",
   "metadata": {},
   "source": [
    "#### 4. bruises"
   ]
  },
  {
   "cell_type": "code",
   "execution_count": 17,
   "id": "68331463",
   "metadata": {},
   "outputs": [
    {
     "data": {
      "text/plain": [
       "f    4748\n",
       "t    3376\n",
       "Name: bruises, dtype: int64"
      ]
     },
     "execution_count": 17,
     "metadata": {},
     "output_type": "execute_result"
    }
   ],
   "source": [
    "df['bruises'].value_counts()"
   ]
  },
  {
   "cell_type": "markdown",
   "id": "f69fa2c3",
   "metadata": {},
   "source": [
    "#### 5. Odor"
   ]
  },
  {
   "cell_type": "code",
   "execution_count": 18,
   "id": "96cd63f3",
   "metadata": {},
   "outputs": [
    {
     "data": {
      "text/plain": [
       "n    3528\n",
       "f    2160\n",
       "y     576\n",
       "s     576\n",
       "a     400\n",
       "l     400\n",
       "p     256\n",
       "c     192\n",
       "m      36\n",
       "Name: odor, dtype: int64"
      ]
     },
     "execution_count": 18,
     "metadata": {},
     "output_type": "execute_result"
    }
   ],
   "source": [
    "odor=df['odor'].value_counts()\n",
    "odor"
   ]
  },
  {
   "cell_type": "code",
   "execution_count": 19,
   "id": "9692f8a2",
   "metadata": {},
   "outputs": [],
   "source": [
    "odor_index = odor[odor<1000].index\n",
    "df['odor'] = df['odor'].replace(odor_index, 'o')"
   ]
  },
  {
   "cell_type": "code",
   "execution_count": 20,
   "id": "65b93a4e",
   "metadata": {},
   "outputs": [
    {
     "data": {
      "text/plain": [
       "n    3528\n",
       "o    2436\n",
       "f    2160\n",
       "Name: odor, dtype: int64"
      ]
     },
     "execution_count": 20,
     "metadata": {},
     "output_type": "execute_result"
    }
   ],
   "source": [
    "df['odor'].value_counts()"
   ]
  },
  {
   "cell_type": "markdown",
   "id": "a3311a40",
   "metadata": {},
   "source": [
    "#### 6. gill-attachment , spacing , size and color"
   ]
  },
  {
   "cell_type": "code",
   "execution_count": 21,
   "id": "d417ed97",
   "metadata": {},
   "outputs": [
    {
     "data": {
      "text/plain": [
       "f    7914\n",
       "a     210\n",
       "Name: gill-attachment, dtype: int64"
      ]
     },
     "execution_count": 21,
     "metadata": {},
     "output_type": "execute_result"
    }
   ],
   "source": [
    "df['gill-attachment'].value_counts()"
   ]
  },
  {
   "cell_type": "code",
   "execution_count": 22,
   "id": "776c66b2",
   "metadata": {},
   "outputs": [
    {
     "data": {
      "text/plain": [
       "c    6812\n",
       "w    1312\n",
       "Name: gill-spacing, dtype: int64"
      ]
     },
     "execution_count": 22,
     "metadata": {},
     "output_type": "execute_result"
    }
   ],
   "source": [
    "df['gill-spacing'].value_counts()"
   ]
  },
  {
   "cell_type": "code",
   "execution_count": 23,
   "id": "5a6125d3",
   "metadata": {},
   "outputs": [
    {
     "data": {
      "text/plain": [
       "b    5612\n",
       "n    2512\n",
       "Name: gill-size, dtype: int64"
      ]
     },
     "execution_count": 23,
     "metadata": {},
     "output_type": "execute_result"
    }
   ],
   "source": [
    "df['gill-size'].value_counts()"
   ]
  },
  {
   "cell_type": "code",
   "execution_count": 24,
   "id": "7dad5edf",
   "metadata": {},
   "outputs": [
    {
     "data": {
      "text/plain": [
       "b    1728\n",
       "p    1492\n",
       "w    1202\n",
       "n    1048\n",
       "g     752\n",
       "h     732\n",
       "u     492\n",
       "k     408\n",
       "e      96\n",
       "y      86\n",
       "o      64\n",
       "r      24\n",
       "Name: gill-color, dtype: int64"
      ]
     },
     "execution_count": 24,
     "metadata": {},
     "output_type": "execute_result"
    }
   ],
   "source": [
    "df['gill-color'].value_counts()"
   ]
  },
  {
   "cell_type": "code",
   "execution_count": 25,
   "id": "18ae7d3f",
   "metadata": {},
   "outputs": [],
   "source": [
    "df['gill-color'] = df['gill-color'].replace([\"g\",\"h\"] , \"gh\")\n",
    "df['gill-color'] = df['gill-color'].replace([\"u\",\"k\" ,\"e\" ,'y',\"o\",\"r\"] , \"o\")\n"
   ]
  },
  {
   "cell_type": "code",
   "execution_count": 26,
   "id": "fa74d16f",
   "metadata": {},
   "outputs": [
    {
     "data": {
      "text/plain": [
       "b     1728\n",
       "p     1492\n",
       "gh    1484\n",
       "w     1202\n",
       "o     1170\n",
       "n     1048\n",
       "Name: gill-color, dtype: int64"
      ]
     },
     "execution_count": 26,
     "metadata": {},
     "output_type": "execute_result"
    }
   ],
   "source": [
    "df['gill-color'].value_counts()"
   ]
  },
  {
   "cell_type": "markdown",
   "id": "14eb2f4e",
   "metadata": {},
   "source": [
    "#### 7. Stalk"
   ]
  },
  {
   "cell_type": "code",
   "execution_count": 27,
   "id": "61010dc7",
   "metadata": {},
   "outputs": [
    {
     "data": {
      "text/plain": [
       "Index(['class', 'cap-shape', 'cap-surface', 'cap-color', 'bruises', 'odor',\n",
       "       'gill-attachment', 'gill-spacing', 'gill-size', 'gill-color',\n",
       "       'stalk-shape', 'stalk-root', 'stalk-surface-above-ring',\n",
       "       'stalk-surface-below-ring', 'stalk-color-above-ring',\n",
       "       'stalk-color-below-ring', 'veil-type', 'veil-color', 'ring-number',\n",
       "       'ring-type', 'spore-print-color', 'population', 'habitat'],\n",
       "      dtype='object')"
      ]
     },
     "execution_count": 27,
     "metadata": {},
     "output_type": "execute_result"
    }
   ],
   "source": [
    "df.columns"
   ]
  },
  {
   "cell_type": "code",
   "execution_count": 28,
   "id": "d94eeab1",
   "metadata": {},
   "outputs": [
    {
     "data": {
      "text/plain": [
       "t    4608\n",
       "e    3516\n",
       "Name: stalk-shape, dtype: int64"
      ]
     },
     "execution_count": 28,
     "metadata": {},
     "output_type": "execute_result"
    }
   ],
   "source": [
    "df['stalk-shape'].value_counts()"
   ]
  },
  {
   "cell_type": "code",
   "execution_count": 29,
   "id": "c16a56ed",
   "metadata": {},
   "outputs": [
    {
     "data": {
      "text/plain": [
       "b    3776\n",
       "?    2480\n",
       "e    1120\n",
       "c     556\n",
       "r     192\n",
       "Name: stalk-root, dtype: int64"
      ]
     },
     "execution_count": 29,
     "metadata": {},
     "output_type": "execute_result"
    }
   ],
   "source": [
    "df['stalk-root'].value_counts()"
   ]
  },
  {
   "cell_type": "code",
   "execution_count": 30,
   "id": "7e288c1a",
   "metadata": {},
   "outputs": [],
   "source": [
    "df['stalk-root'] = df['stalk-root'].replace(['e','c','r','?'],'o')"
   ]
  },
  {
   "cell_type": "code",
   "execution_count": 31,
   "id": "bf72d1dd",
   "metadata": {},
   "outputs": [
    {
     "data": {
      "text/plain": [
       "o    4348\n",
       "b    3776\n",
       "Name: stalk-root, dtype: int64"
      ]
     },
     "execution_count": 31,
     "metadata": {},
     "output_type": "execute_result"
    }
   ],
   "source": [
    "df['stalk-root'].value_counts()"
   ]
  },
  {
   "cell_type": "code",
   "execution_count": 32,
   "id": "3d23a5c6",
   "metadata": {},
   "outputs": [
    {
     "data": {
      "text/plain": [
       "s    5176\n",
       "k    2372\n",
       "f     552\n",
       "y      24\n",
       "Name: stalk-surface-above-ring, dtype: int64"
      ]
     },
     "execution_count": 32,
     "metadata": {},
     "output_type": "execute_result"
    }
   ],
   "source": [
    "df['stalk-surface-above-ring'].value_counts()"
   ]
  },
  {
   "cell_type": "code",
   "execution_count": 33,
   "id": "2f235fdf",
   "metadata": {},
   "outputs": [],
   "source": [
    "df['stalk-surface-above-ring'] = df['stalk-surface-above-ring'].replace(['k','f','y'],'o')"
   ]
  },
  {
   "cell_type": "code",
   "execution_count": 34,
   "id": "f093fef3",
   "metadata": {},
   "outputs": [
    {
     "data": {
      "text/plain": [
       "s    5176\n",
       "o    2948\n",
       "Name: stalk-surface-above-ring, dtype: int64"
      ]
     },
     "execution_count": 34,
     "metadata": {},
     "output_type": "execute_result"
    }
   ],
   "source": [
    "df['stalk-surface-above-ring'].value_counts()"
   ]
  },
  {
   "cell_type": "code",
   "execution_count": 35,
   "id": "ee735854",
   "metadata": {},
   "outputs": [
    {
     "data": {
      "text/plain": [
       "s    4936\n",
       "k    2304\n",
       "f     600\n",
       "y     284\n",
       "Name: stalk-surface-below-ring, dtype: int64"
      ]
     },
     "execution_count": 35,
     "metadata": {},
     "output_type": "execute_result"
    }
   ],
   "source": [
    "df['stalk-surface-below-ring'].value_counts()"
   ]
  },
  {
   "cell_type": "code",
   "execution_count": 36,
   "id": "6de7ded4",
   "metadata": {},
   "outputs": [],
   "source": [
    "df['stalk-surface-below-ring'] = df['stalk-surface-below-ring'].replace(['k','f','y'],'o')"
   ]
  },
  {
   "cell_type": "code",
   "execution_count": 37,
   "id": "529a957d",
   "metadata": {},
   "outputs": [
    {
     "data": {
      "text/plain": [
       "s    4936\n",
       "o    3188\n",
       "Name: stalk-surface-below-ring, dtype: int64"
      ]
     },
     "execution_count": 37,
     "metadata": {},
     "output_type": "execute_result"
    }
   ],
   "source": [
    "df['stalk-surface-below-ring'].value_counts()"
   ]
  },
  {
   "cell_type": "code",
   "execution_count": 38,
   "id": "f0916172",
   "metadata": {},
   "outputs": [
    {
     "data": {
      "text/plain": [
       "w    4464\n",
       "p    1872\n",
       "g     576\n",
       "n     448\n",
       "b     432\n",
       "o     192\n",
       "e      96\n",
       "c      36\n",
       "y       8\n",
       "Name: stalk-color-above-ring, dtype: int64"
      ]
     },
     "execution_count": 38,
     "metadata": {},
     "output_type": "execute_result"
    }
   ],
   "source": [
    "stalk_color1 = df['stalk-color-above-ring'].value_counts()\n",
    "stalk_color1"
   ]
  },
  {
   "cell_type": "code",
   "execution_count": 39,
   "id": "35b63b80",
   "metadata": {},
   "outputs": [],
   "source": [
    "stalk_color1_index = stalk_color1[stalk_color1<1000].index\n",
    "df['stalk-color-above-ring'] = df['stalk-color-above-ring'].replace(stalk_color1_index , \"o\")"
   ]
  },
  {
   "cell_type": "code",
   "execution_count": 40,
   "id": "0b380509",
   "metadata": {},
   "outputs": [
    {
     "data": {
      "text/plain": [
       "w    4464\n",
       "p    1872\n",
       "o    1788\n",
       "Name: stalk-color-above-ring, dtype: int64"
      ]
     },
     "execution_count": 40,
     "metadata": {},
     "output_type": "execute_result"
    }
   ],
   "source": [
    "df['stalk-color-above-ring'].value_counts()"
   ]
  },
  {
   "cell_type": "code",
   "execution_count": 41,
   "id": "222cac8e",
   "metadata": {},
   "outputs": [
    {
     "data": {
      "text/plain": [
       "w    4384\n",
       "p    1872\n",
       "g     576\n",
       "n     512\n",
       "b     432\n",
       "o     192\n",
       "e      96\n",
       "c      36\n",
       "y      24\n",
       "Name: stalk-color-below-ring, dtype: int64"
      ]
     },
     "execution_count": 41,
     "metadata": {},
     "output_type": "execute_result"
    }
   ],
   "source": [
    "stalk_color2=df['stalk-color-below-ring'].value_counts()\n",
    "stalk_color2"
   ]
  },
  {
   "cell_type": "code",
   "execution_count": 42,
   "id": "4aebc543",
   "metadata": {},
   "outputs": [],
   "source": [
    "stalk_color2_index = stalk_color2[stalk_color2<1000].index\n",
    "df['stalk-color-below-ring'] = df['stalk-color-below-ring'].replace(stalk_color2_index , \"o\")"
   ]
  },
  {
   "cell_type": "code",
   "execution_count": 43,
   "id": "3eeb913f",
   "metadata": {},
   "outputs": [
    {
     "data": {
      "text/plain": [
       "w    4384\n",
       "p    1872\n",
       "o    1868\n",
       "Name: stalk-color-below-ring, dtype: int64"
      ]
     },
     "execution_count": 43,
     "metadata": {},
     "output_type": "execute_result"
    }
   ],
   "source": [
    "df['stalk-color-below-ring'].value_counts()"
   ]
  },
  {
   "cell_type": "markdown",
   "id": "1b83e6d6",
   "metadata": {},
   "source": [
    "#### 8. Veil"
   ]
  },
  {
   "cell_type": "code",
   "execution_count": 44,
   "id": "9dae9632",
   "metadata": {},
   "outputs": [
    {
     "data": {
      "text/plain": [
       "p    8124\n",
       "Name: veil-type, dtype: int64"
      ]
     },
     "execution_count": 44,
     "metadata": {},
     "output_type": "execute_result"
    }
   ],
   "source": [
    "df['veil-type'].value_counts()"
   ]
  },
  {
   "cell_type": "code",
   "execution_count": 45,
   "id": "59e480c9",
   "metadata": {},
   "outputs": [
    {
     "data": {
      "text/plain": [
       "w    7924\n",
       "n      96\n",
       "o      96\n",
       "y       8\n",
       "Name: veil-color, dtype: int64"
      ]
     },
     "execution_count": 45,
     "metadata": {},
     "output_type": "execute_result"
    }
   ],
   "source": [
    "df['veil-color'].value_counts()"
   ]
  },
  {
   "cell_type": "code",
   "execution_count": 46,
   "id": "f7ccb3a1",
   "metadata": {},
   "outputs": [],
   "source": [
    "## Dont neeed veil columns "
   ]
  },
  {
   "cell_type": "markdown",
   "id": "f2627dff",
   "metadata": {},
   "source": [
    "#### 9. Ring"
   ]
  },
  {
   "cell_type": "code",
   "execution_count": 47,
   "id": "a4d8310f",
   "metadata": {},
   "outputs": [
    {
     "data": {
      "text/plain": [
       "p    3968\n",
       "e    2776\n",
       "l    1296\n",
       "f      48\n",
       "n      36\n",
       "Name: ring-type, dtype: int64"
      ]
     },
     "execution_count": 47,
     "metadata": {},
     "output_type": "execute_result"
    }
   ],
   "source": [
    "df['ring-type'].value_counts()"
   ]
  },
  {
   "cell_type": "code",
   "execution_count": 48,
   "id": "75112bfb",
   "metadata": {},
   "outputs": [],
   "source": [
    "df['ring-type'] = df['ring-type'].replace([\"l\",\"f\",\"n\"],\"o\")"
   ]
  },
  {
   "cell_type": "code",
   "execution_count": 49,
   "id": "30cbc273",
   "metadata": {},
   "outputs": [
    {
     "data": {
      "text/plain": [
       "p    3968\n",
       "e    2776\n",
       "o    1380\n",
       "Name: ring-type, dtype: int64"
      ]
     },
     "execution_count": 49,
     "metadata": {},
     "output_type": "execute_result"
    }
   ],
   "source": [
    "df['ring-type'].value_counts()"
   ]
  },
  {
   "cell_type": "code",
   "execution_count": 50,
   "id": "b0d91c48",
   "metadata": {},
   "outputs": [
    {
     "data": {
      "text/plain": [
       "o    7488\n",
       "t     600\n",
       "n      36\n",
       "Name: ring-number, dtype: int64"
      ]
     },
     "execution_count": 50,
     "metadata": {},
     "output_type": "execute_result"
    }
   ],
   "source": [
    "df['ring-number'].value_counts()"
   ]
  },
  {
   "cell_type": "code",
   "execution_count": 51,
   "id": "3aa29172",
   "metadata": {},
   "outputs": [],
   "source": [
    "# Dont want ring number"
   ]
  },
  {
   "cell_type": "markdown",
   "id": "f9924ce4",
   "metadata": {},
   "source": [
    "#### 10. Spore-print , population , habitat"
   ]
  },
  {
   "cell_type": "code",
   "execution_count": 52,
   "id": "8d3284c4",
   "metadata": {},
   "outputs": [],
   "source": [
    "spore = df['spore-print-color'].value_counts()"
   ]
  },
  {
   "cell_type": "code",
   "execution_count": 53,
   "id": "62a6d94c",
   "metadata": {},
   "outputs": [],
   "source": [
    "spore_index = spore[spore<1700].index\n",
    "df['spore-print-color'] = df['spore-print-color'].replace(spore_index , \"o\")"
   ]
  },
  {
   "cell_type": "code",
   "execution_count": 54,
   "id": "b11f782a",
   "metadata": {},
   "outputs": [
    {
     "data": {
      "text/plain": [
       "w    2388\n",
       "n    1968\n",
       "o    1896\n",
       "k    1872\n",
       "Name: spore-print-color, dtype: int64"
      ]
     },
     "execution_count": 54,
     "metadata": {},
     "output_type": "execute_result"
    }
   ],
   "source": [
    "df['spore-print-color'].value_counts()"
   ]
  },
  {
   "cell_type": "code",
   "execution_count": 55,
   "id": "07ea9e08",
   "metadata": {},
   "outputs": [],
   "source": [
    "pop=df['population'].value_counts()"
   ]
  },
  {
   "cell_type": "code",
   "execution_count": 56,
   "id": "259a6cef",
   "metadata": {},
   "outputs": [],
   "source": [
    "pop_index = pop[pop<2000].index\n",
    "df['population']=df['population'].replace(pop_index,\"o\")"
   ]
  },
  {
   "cell_type": "code",
   "execution_count": 57,
   "id": "3e195cbe",
   "metadata": {},
   "outputs": [
    {
     "data": {
      "text/plain": [
       "o    4084\n",
       "v    4040\n",
       "Name: population, dtype: int64"
      ]
     },
     "execution_count": 57,
     "metadata": {},
     "output_type": "execute_result"
    }
   ],
   "source": [
    "df['population'].value_counts()"
   ]
  },
  {
   "cell_type": "code",
   "execution_count": 58,
   "id": "e54db42e",
   "metadata": {},
   "outputs": [],
   "source": [
    "habitat=df['habitat'].value_counts()"
   ]
  },
  {
   "cell_type": "code",
   "execution_count": 59,
   "id": "0dce0c0a",
   "metadata": {},
   "outputs": [],
   "source": [
    "habitat_index = habitat[habitat<1000].index\n",
    "df['habitat']=df['habitat'].replace(habitat_index,\"o\")"
   ]
  },
  {
   "cell_type": "code",
   "execution_count": 60,
   "id": "3efb31af",
   "metadata": {},
   "outputs": [
    {
     "data": {
      "text/plain": [
       "d    3148\n",
       "g    2148\n",
       "o    1684\n",
       "p    1144\n",
       "Name: habitat, dtype: int64"
      ]
     },
     "execution_count": 60,
     "metadata": {},
     "output_type": "execute_result"
    }
   ],
   "source": [
    "df['habitat'].value_counts()"
   ]
  },
  {
   "cell_type": "code",
   "execution_count": 61,
   "id": "b021892c",
   "metadata": {},
   "outputs": [
    {
     "data": {
      "text/html": [
       "<div>\n",
       "<style scoped>\n",
       "    .dataframe tbody tr th:only-of-type {\n",
       "        vertical-align: middle;\n",
       "    }\n",
       "\n",
       "    .dataframe tbody tr th {\n",
       "        vertical-align: top;\n",
       "    }\n",
       "\n",
       "    .dataframe thead th {\n",
       "        text-align: right;\n",
       "    }\n",
       "</style>\n",
       "<table border=\"1\" class=\"dataframe\">\n",
       "  <thead>\n",
       "    <tr style=\"text-align: right;\">\n",
       "      <th></th>\n",
       "      <th>class</th>\n",
       "      <th>cap-shape</th>\n",
       "      <th>cap-surface</th>\n",
       "      <th>cap-color</th>\n",
       "      <th>bruises</th>\n",
       "      <th>odor</th>\n",
       "      <th>gill-attachment</th>\n",
       "      <th>gill-spacing</th>\n",
       "      <th>gill-size</th>\n",
       "      <th>gill-color</th>\n",
       "      <th>...</th>\n",
       "      <th>stalk-surface-below-ring</th>\n",
       "      <th>stalk-color-above-ring</th>\n",
       "      <th>stalk-color-below-ring</th>\n",
       "      <th>veil-type</th>\n",
       "      <th>veil-color</th>\n",
       "      <th>ring-number</th>\n",
       "      <th>ring-type</th>\n",
       "      <th>spore-print-color</th>\n",
       "      <th>population</th>\n",
       "      <th>habitat</th>\n",
       "    </tr>\n",
       "  </thead>\n",
       "  <tbody>\n",
       "    <tr>\n",
       "      <th>0</th>\n",
       "      <td>p</td>\n",
       "      <td>x</td>\n",
       "      <td>s</td>\n",
       "      <td>n</td>\n",
       "      <td>t</td>\n",
       "      <td>o</td>\n",
       "      <td>f</td>\n",
       "      <td>c</td>\n",
       "      <td>n</td>\n",
       "      <td>o</td>\n",
       "      <td>...</td>\n",
       "      <td>s</td>\n",
       "      <td>w</td>\n",
       "      <td>w</td>\n",
       "      <td>p</td>\n",
       "      <td>w</td>\n",
       "      <td>o</td>\n",
       "      <td>p</td>\n",
       "      <td>k</td>\n",
       "      <td>o</td>\n",
       "      <td>o</td>\n",
       "    </tr>\n",
       "    <tr>\n",
       "      <th>1</th>\n",
       "      <td>e</td>\n",
       "      <td>x</td>\n",
       "      <td>s</td>\n",
       "      <td>y</td>\n",
       "      <td>t</td>\n",
       "      <td>o</td>\n",
       "      <td>f</td>\n",
       "      <td>c</td>\n",
       "      <td>b</td>\n",
       "      <td>o</td>\n",
       "      <td>...</td>\n",
       "      <td>s</td>\n",
       "      <td>w</td>\n",
       "      <td>w</td>\n",
       "      <td>p</td>\n",
       "      <td>w</td>\n",
       "      <td>o</td>\n",
       "      <td>p</td>\n",
       "      <td>n</td>\n",
       "      <td>o</td>\n",
       "      <td>g</td>\n",
       "    </tr>\n",
       "    <tr>\n",
       "      <th>2</th>\n",
       "      <td>e</td>\n",
       "      <td>o</td>\n",
       "      <td>s</td>\n",
       "      <td>w</td>\n",
       "      <td>t</td>\n",
       "      <td>o</td>\n",
       "      <td>f</td>\n",
       "      <td>c</td>\n",
       "      <td>b</td>\n",
       "      <td>n</td>\n",
       "      <td>...</td>\n",
       "      <td>s</td>\n",
       "      <td>w</td>\n",
       "      <td>w</td>\n",
       "      <td>p</td>\n",
       "      <td>w</td>\n",
       "      <td>o</td>\n",
       "      <td>p</td>\n",
       "      <td>n</td>\n",
       "      <td>o</td>\n",
       "      <td>o</td>\n",
       "    </tr>\n",
       "    <tr>\n",
       "      <th>3</th>\n",
       "      <td>p</td>\n",
       "      <td>x</td>\n",
       "      <td>y</td>\n",
       "      <td>w</td>\n",
       "      <td>t</td>\n",
       "      <td>o</td>\n",
       "      <td>f</td>\n",
       "      <td>c</td>\n",
       "      <td>n</td>\n",
       "      <td>n</td>\n",
       "      <td>...</td>\n",
       "      <td>s</td>\n",
       "      <td>w</td>\n",
       "      <td>w</td>\n",
       "      <td>p</td>\n",
       "      <td>w</td>\n",
       "      <td>o</td>\n",
       "      <td>p</td>\n",
       "      <td>k</td>\n",
       "      <td>o</td>\n",
       "      <td>o</td>\n",
       "    </tr>\n",
       "    <tr>\n",
       "      <th>4</th>\n",
       "      <td>e</td>\n",
       "      <td>x</td>\n",
       "      <td>s</td>\n",
       "      <td>g</td>\n",
       "      <td>f</td>\n",
       "      <td>n</td>\n",
       "      <td>f</td>\n",
       "      <td>w</td>\n",
       "      <td>b</td>\n",
       "      <td>o</td>\n",
       "      <td>...</td>\n",
       "      <td>s</td>\n",
       "      <td>w</td>\n",
       "      <td>w</td>\n",
       "      <td>p</td>\n",
       "      <td>w</td>\n",
       "      <td>o</td>\n",
       "      <td>e</td>\n",
       "      <td>n</td>\n",
       "      <td>o</td>\n",
       "      <td>g</td>\n",
       "    </tr>\n",
       "  </tbody>\n",
       "</table>\n",
       "<p>5 rows × 23 columns</p>\n",
       "</div>"
      ],
      "text/plain": [
       "  class cap-shape cap-surface cap-color bruises odor gill-attachment  \\\n",
       "0     p         x           s         n       t    o               f   \n",
       "1     e         x           s         y       t    o               f   \n",
       "2     e         o           s         w       t    o               f   \n",
       "3     p         x           y         w       t    o               f   \n",
       "4     e         x           s         g       f    n               f   \n",
       "\n",
       "  gill-spacing gill-size gill-color  ... stalk-surface-below-ring  \\\n",
       "0            c         n          o  ...                        s   \n",
       "1            c         b          o  ...                        s   \n",
       "2            c         b          n  ...                        s   \n",
       "3            c         n          n  ...                        s   \n",
       "4            w         b          o  ...                        s   \n",
       "\n",
       "  stalk-color-above-ring stalk-color-below-ring veil-type veil-color  \\\n",
       "0                      w                      w         p          w   \n",
       "1                      w                      w         p          w   \n",
       "2                      w                      w         p          w   \n",
       "3                      w                      w         p          w   \n",
       "4                      w                      w         p          w   \n",
       "\n",
       "  ring-number ring-type spore-print-color population habitat  \n",
       "0           o         p                 k          o       o  \n",
       "1           o         p                 n          o       g  \n",
       "2           o         p                 n          o       o  \n",
       "3           o         p                 k          o       o  \n",
       "4           o         e                 n          o       g  \n",
       "\n",
       "[5 rows x 23 columns]"
      ]
     },
     "execution_count": 61,
     "metadata": {},
     "output_type": "execute_result"
    }
   ],
   "source": [
    "df.head()"
   ]
  },
  {
   "cell_type": "code",
   "execution_count": 62,
   "id": "f7e6cd75",
   "metadata": {},
   "outputs": [],
   "source": [
    "df.to_csv(\"final_data.csv\",index=False)"
   ]
  },
  {
   "cell_type": "code",
   "execution_count": null,
   "id": "f43f34dd",
   "metadata": {},
   "outputs": [],
   "source": []
  }
 ],
 "metadata": {
  "kernelspec": {
   "display_name": "Python 3 (ipykernel)",
   "language": "python",
   "name": "python3"
  },
  "language_info": {
   "codemirror_mode": {
    "name": "ipython",
    "version": 3
   },
   "file_extension": ".py",
   "mimetype": "text/x-python",
   "name": "python",
   "nbconvert_exporter": "python",
   "pygments_lexer": "ipython3",
   "version": "3.9.13"
  }
 },
 "nbformat": 4,
 "nbformat_minor": 5
}
